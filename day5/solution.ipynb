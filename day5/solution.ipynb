{
 "cells": [
  {
   "cell_type": "markdown",
   "metadata": {},
   "source": [
    "## Pre-Processing"
   ]
  },
  {
   "cell_type": "code",
   "execution_count": 6,
   "metadata": {},
   "outputs": [],
   "source": [
    "from collections import defaultdict\n",
    "\n",
    "with open('input.txt', 'r') as f:\n",
    "    data = f.read()\n",
    "    rules, updates = data.split('\\n\\n')\n",
    "    rules = rules.split('\\n')\n",
    "    updates = updates.split('\\n')\n",
    "\n",
    "rule_map = defaultdict(lambda: [])\n",
    "for rule in rules:\n",
    "    rule = rule.split('|')\n",
    "    rule_map[rule[0]].append(rule[1])\n",
    "\n",
    "updates = [update.split(',') for update in updates]"
   ]
  },
  {
   "cell_type": "markdown",
   "metadata": {},
   "source": [
    "## Part - 1"
   ]
  },
  {
   "cell_type": "code",
   "execution_count": 9,
   "metadata": {},
   "outputs": [
    {
     "name": "stdout",
     "output_type": "stream",
     "text": [
      "4689\n"
     ]
    }
   ],
   "source": [
    "def check_ordering(update):\n",
    "    for i in range(len(update) - 1):\n",
    "        for j in range(i + 1, len(update)):\n",
    "            if update[i] in rule_map[update[j]]:\n",
    "                return False\n",
    "    return True\n",
    "\n",
    "res = 0\n",
    "for update in updates:\n",
    "    if check_ordering(update):\n",
    "        res += int(update[len(update)//2])\n",
    "print(res)"
   ]
  },
  {
   "cell_type": "markdown",
   "metadata": {},
   "source": [
    "## Part - 2"
   ]
  },
  {
   "cell_type": "code",
   "execution_count": 17,
   "metadata": {},
   "outputs": [
    {
     "name": "stdout",
     "output_type": "stream",
     "text": [
      "6336\n"
     ]
    }
   ],
   "source": [
    "from functools import cmp_to_key\n",
    "\n",
    "def sort_update(update):\n",
    "    def check(x, y):\n",
    "        if x in rule_map[y]:\n",
    "            return 1\n",
    "        elif y in rule_map[x]:\n",
    "            return -1\n",
    "        elif x == y:\n",
    "            return 0\n",
    "        else:\n",
    "            return -1\n",
    "    sorted_update = sorted(update, key=cmp_to_key(check))\n",
    "    return sorted_update\n",
    "\n",
    "res = 0\n",
    "for update in updates:\n",
    "    if check_ordering(update):\n",
    "        # res += int(update[len(update)//2])\n",
    "        pass\n",
    "    else:\n",
    "        sorted_update = sort_update(update)\n",
    "        if check_ordering(sorted_update):\n",
    "            res += int(sorted_update[len(sorted_update)//2])\n",
    "        else:\n",
    "            print('Sorting Failed', update)\n",
    "print(res)\n",
    "        \n"
   ]
  },
  {
   "cell_type": "code",
   "execution_count": null,
   "metadata": {},
   "outputs": [],
   "source": []
  }
 ],
 "metadata": {
  "kernelspec": {
   "display_name": ".venv",
   "language": "python",
   "name": "python3"
  },
  "language_info": {
   "codemirror_mode": {
    "name": "ipython",
    "version": 3
   },
   "file_extension": ".py",
   "mimetype": "text/x-python",
   "name": "python",
   "nbconvert_exporter": "python",
   "pygments_lexer": "ipython3",
   "version": "3.13.0"
  }
 },
 "nbformat": 4,
 "nbformat_minor": 2
}
