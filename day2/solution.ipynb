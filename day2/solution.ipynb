{
 "cells": [
  {
   "cell_type": "markdown",
   "metadata": {},
   "source": [
    "## Pre-Processing"
   ]
  },
  {
   "cell_type": "code",
   "execution_count": 60,
   "metadata": {},
   "outputs": [],
   "source": [
    "import re\n",
    "\n",
    "with open('input.txt') as f:\n",
    "    lines = f.readlines()\n",
    "    reports = [[int(num) for num in re.split(r'\\s+', line.strip())] for line in lines]"
   ]
  },
  {
   "cell_type": "markdown",
   "metadata": {},
   "source": [
    "## Part - 1"
   ]
  },
  {
   "cell_type": "code",
   "execution_count": 19,
   "metadata": {},
   "outputs": [
    {
     "name": "stdout",
     "output_type": "stream",
     "text": [
      "411\n"
     ]
    }
   ],
   "source": [
    "def check_report(report):\n",
    "    if len(report) <= 1:\n",
    "        return True\n",
    "    increasing = report[0] < report[1]\n",
    "    for i in range(0, len(report)-1):\n",
    "        difference = abs(report[i] - report[i+1])\n",
    "        if difference < 1 or difference > 3:\n",
    "            return False\n",
    "        if increasing and report[i] > report[i+1]:\n",
    "            return False\n",
    "        if not increasing and report[i] < report[i+1]:\n",
    "            return False\n",
    "    return True\n",
    "\n",
    "validity = [check_report(report) for report in reports]\n",
    "print(sum(validity))"
   ]
  },
  {
   "cell_type": "markdown",
   "metadata": {},
   "source": [
    "## Part - 2"
   ]
  },
  {
   "cell_type": "code",
   "execution_count": 62,
   "metadata": {},
   "outputs": [
    {
     "name": "stdout",
     "output_type": "stream",
     "text": [
      "465\n"
     ]
    }
   ],
   "source": [
    "import numpy as np\n",
    "\n",
    "def advanced(split):\n",
    "    for i in range(len(split)):\n",
    "        L = split.copy()\n",
    "        del L[i]\n",
    "        \n",
    "        R = np.array([int(L[j]) - int(L[j - 1]) for j in range(1, len(L))])\n",
    "\n",
    "        if np.sign(int(L[1]) - int(L[0])) == -1:\n",
    "            # Decreasing\n",
    "            if not np.any(False == np.logical_and(R <= -1, R >= -3)):\n",
    "                return True\n",
    "        elif np.sign(int(L[1]) - int(L[0])) == 1:\n",
    "            # Increasing\n",
    "            if not np.any(False == np.logical_and(R >= 1, R <= 3)):\n",
    "                return True\n",
    "    \n",
    "    return False\n",
    "\n",
    "safeCount = 0\n",
    "for split in reports:\n",
    "    L = np.array([split[i] - split[i - 1] for i in range(1, len(split))])\n",
    "    \n",
    "    if np.sign(int(split[1]) - int(split[0])) == -1:\n",
    "        # Decreasing\n",
    "        if np.any(False == np.logical_and(L <= -1, L >= -3)):\n",
    "            safeCount += advanced(split)\n",
    "        else:\n",
    "            safeCount += 1\n",
    "    elif np.sign(int(split[1]) - int(split[0])) == 1:\n",
    "        # Increasing\n",
    "        if np.any(False == np.logical_and(L >= 1, L <= 3)):\n",
    "            safeCount += advanced(split)\n",
    "        else:\n",
    "            safeCount += 1\n",
    "    else:\n",
    "        safeCount += advanced(split)\n",
    "\n",
    "print(safeCount)"
   ]
  },
  {
   "cell_type": "code",
   "execution_count": null,
   "metadata": {},
   "outputs": [],
   "source": []
  }
 ],
 "metadata": {
  "kernelspec": {
   "display_name": ".venv",
   "language": "python",
   "name": "python3"
  },
  "language_info": {
   "codemirror_mode": {
    "name": "ipython",
    "version": 3
   },
   "file_extension": ".py",
   "mimetype": "text/x-python",
   "name": "python",
   "nbconvert_exporter": "python",
   "pygments_lexer": "ipython3",
   "version": "3.13.0"
  }
 },
 "nbformat": 4,
 "nbformat_minor": 2
}
