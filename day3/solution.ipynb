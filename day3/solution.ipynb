{
 "cells": [
  {
   "cell_type": "markdown",
   "metadata": {},
   "source": [
    "## Pre-Processing"
   ]
  },
  {
   "cell_type": "code",
   "execution_count": 6,
   "metadata": {},
   "outputs": [],
   "source": [
    "import re\n",
    "\n",
    "with open('input.txt') as f:\n",
    "    content = f.read()"
   ]
  },
  {
   "cell_type": "markdown",
   "metadata": {},
   "source": [
    "## Part - 1"
   ]
  },
  {
   "cell_type": "code",
   "execution_count": 27,
   "metadata": {},
   "outputs": [
    {
     "name": "stdout",
     "output_type": "stream",
     "text": [
      "153469856\n"
     ]
    }
   ],
   "source": [
    "# Match content with regex\n",
    "def calculate(content):\n",
    "    valid_expr = re.compile(r'mul\\(\\d{1,3},\\d{1,3}\\)')\n",
    "    valid_exprs = valid_expr.findall(content)\n",
    "\n",
    "    res = 0\n",
    "    for expr in valid_exprs:\n",
    "        # Split the expression into two numbers\n",
    "        nums = expr.split('(')[1].split(')')[0].split(',')\n",
    "        # Multiply the two numbers\n",
    "        res  += int(nums[0]) * int(nums[1])\n",
    "    return res\n",
    "\n",
    "print(calculate(content))"
   ]
  },
  {
   "cell_type": "markdown",
   "metadata": {},
   "source": [
    "## Part - 2"
   ]
  },
  {
   "cell_type": "code",
   "execution_count": 35,
   "metadata": {},
   "outputs": [
    {
     "name": "stdout",
     "output_type": "stream",
     "text": [
      "[1298, 2161, 3117, 3290, 3321, 4586, 5120, 5979, 6185, 6295, 6694, 7346, 7450, 7971, 8197, 8326, 8910, 9054, 9203, 9313, 9600, 10749, 11253, 11330, 11647, 11941, 11981, 12167, 12734, 13158, 13647, 14179, 16989, 17477]\n",
      "[145, 254, 1006, 1114, 1223, 1467, 3360, 3779, 4137, 4866, 6015, 6264, 8520, 8661, 10245, 10706, 13454, 13796, 13913, 14129, 14494, 14965, 15347, 16412, 17178, 17665, 17971, 18057]\n",
      "77055967\n"
     ]
    }
   ],
   "source": [
    "dont_indices = [it.start() for it in re.finditer(r'don\\'t\\(\\)', content)]\n",
    "print(dont_indices)\n",
    "do_indices = [it.start() for it in re.finditer(r'do\\(\\)', content)]\n",
    "print(do_indices)\n",
    "\n",
    "valid_ranges = []\n",
    "i = 0\n",
    "j = 0\n",
    "start = 0\n",
    "res = 0\n",
    "with open('output.txt', 'w') as f:\n",
    "    while start < len(content):\n",
    "        while i < len(dont_indices) and dont_indices[i] < start:\n",
    "            i += 1\n",
    "        dont_index = dont_indices[i] if i < len(dont_indices) else len(content)\n",
    "        f.write(f\"Valid ({start}, {dont_index}) {content[start:dont_index]}\\n\")\n",
    "        res += calculate(content[start:dont_index])\n",
    "        while j < len(do_indices) and do_indices[j] < dont_index:\n",
    "            j += 1\n",
    "        start = do_indices[j] if j < len(do_indices) else len(content)\n",
    "        f.write(f\"Invalid ({dont_index}, {start}) {content[dont_index:start]}\\n\\n\")\n",
    "print(res)\n",
    "\n",
    "# start = 0\n",
    "# result = 0\n",
    "# for invalid_range in invalid_ranges:\n",
    "#     end = invalid_range[0]\n",
    "#     result += calculate(content[start:end])\n",
    "#     start = invalid_range[1]\n",
    "# result += calculate(content[start:])\n",
    "# print(result)\n"
   ]
  },
  {
   "cell_type": "code",
   "execution_count": null,
   "metadata": {},
   "outputs": [],
   "source": []
  }
 ],
 "metadata": {
  "kernelspec": {
   "display_name": ".venv",
   "language": "python",
   "name": "python3"
  },
  "language_info": {
   "codemirror_mode": {
    "name": "ipython",
    "version": 3
   },
   "file_extension": ".py",
   "mimetype": "text/x-python",
   "name": "python",
   "nbconvert_exporter": "python",
   "pygments_lexer": "ipython3",
   "version": "3.13.0"
  }
 },
 "nbformat": 4,
 "nbformat_minor": 2
}
