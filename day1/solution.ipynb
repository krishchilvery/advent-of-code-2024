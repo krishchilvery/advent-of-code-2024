{
 "cells": [
  {
   "cell_type": "markdown",
   "metadata": {},
   "source": [
    "## Pre-Processing"
   ]
  },
  {
   "cell_type": "code",
   "execution_count": 2,
   "metadata": {},
   "outputs": [],
   "source": [
    "import os\n",
    "import re\n",
    "\n",
    "arr1 = []\n",
    "arr2 = []\n",
    "with open(os.path.join('input.txt')) as f:\n",
    "    lines = f.readlines()\n",
    "    for line in lines:\n",
    "        num1, num2 = re.split(r'\\s+', line.strip())\n",
    "        arr1.append(int(num1))\n",
    "        arr2.append(int(num2))\n",
    "\n",
    "sorted_arr1 = sorted(arr1)\n",
    "sorted_arr2 = sorted(arr2)"
   ]
  },
  {
   "cell_type": "markdown",
   "metadata": {},
   "source": [
    "## Part - 1"
   ]
  },
  {
   "cell_type": "code",
   "execution_count": 3,
   "metadata": {},
   "outputs": [
    {
     "name": "stdout",
     "output_type": "stream",
     "text": [
      "1506483\n"
     ]
    }
   ],
   "source": [
    "res = 0\n",
    "for num1, num2 in zip(sorted_arr1, sorted_arr2):\n",
    "    res += abs(num1 - num2)\n",
    "print(res)"
   ]
  },
  {
   "cell_type": "markdown",
   "metadata": {},
   "source": [
    "## Part - 2"
   ]
  },
  {
   "cell_type": "code",
   "execution_count": 6,
   "metadata": {},
   "outputs": [
    {
     "name": "stdout",
     "output_type": "stream",
     "text": [
      "23126924\n"
     ]
    }
   ],
   "source": [
    "similarity_score = 0\n",
    "i = 0\n",
    "for num1 in sorted_arr1:\n",
    "    count = 0\n",
    "    while i < len(sorted_arr2):\n",
    "        if sorted_arr2[i] > num1:\n",
    "            break\n",
    "        elif sorted_arr2[i] == num1:\n",
    "            count += 1\n",
    "        i += 1\n",
    "    similarity_score += count * num1\n",
    "print(similarity_score)"
   ]
  },
  {
   "cell_type": "code",
   "execution_count": null,
   "metadata": {},
   "outputs": [],
   "source": []
  }
 ],
 "metadata": {
  "kernelspec": {
   "display_name": ".venv",
   "language": "python",
   "name": "python3"
  },
  "language_info": {
   "codemirror_mode": {
    "name": "ipython",
    "version": 3
   },
   "file_extension": ".py",
   "mimetype": "text/x-python",
   "name": "python",
   "nbconvert_exporter": "python",
   "pygments_lexer": "ipython3",
   "version": "3.13.0"
  }
 },
 "nbformat": 4,
 "nbformat_minor": 2
}
